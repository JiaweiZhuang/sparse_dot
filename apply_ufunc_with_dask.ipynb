{
 "cells": [
  {
   "cell_type": "code",
   "execution_count": 1,
   "metadata": {
    "collapsed": true
   },
   "outputs": [],
   "source": [
    "%matplotlib inline\n",
    "import matplotlib.pyplot as plt\n",
    "import numpy as np\n",
    "import xarray as xr\n",
    "\n",
    "from scipy.sparse import coo_matrix\n",
    "import dask.array as da\n",
    "from dask.diagnostics import ProgressBar"
   ]
  },
  {
   "cell_type": "markdown",
   "metadata": {},
   "source": [
    "**Update: This kind of works now. But the performance is worse than Numba.**"
   ]
  },
  {
   "cell_type": "markdown",
   "metadata": {},
   "source": [
    "# Preparation"
   ]
  },
  {
   "cell_type": "markdown",
   "metadata": {},
   "source": [
    "Just copy the code from [sparse_dot_benchmark.ipynb](./sparse_dot_benchmark.ipynb)."
   ]
  },
  {
   "cell_type": "code",
   "execution_count": 2,
   "metadata": {
    "collapsed": true
   },
   "outputs": [],
   "source": [
    "ds = xr.open_dataset(\"weights.nc\")\n",
    "n_s = ds.dims['n_s']\n",
    "col = ds['col'].values - 1\n",
    "row = ds['row'].values - 1\n",
    "S = ds['S'].values\n",
    "A = coo_matrix((S, (row, col))) "
   ]
  },
  {
   "cell_type": "code",
   "execution_count": 3,
   "metadata": {},
   "outputs": [
    {
     "data": {
      "text/plain": [
       "(500, 240000)"
      ]
     },
     "execution_count": 3,
     "metadata": {},
     "output_type": "execute_result"
    }
   ],
   "source": [
    "data = np.random.rand(500, A.shape[1])\n",
    "data.shape"
   ]
  },
  {
   "cell_type": "code",
   "execution_count": 4,
   "metadata": {},
   "outputs": [
    {
     "name": "stdout",
     "output_type": "stream",
     "text": [
      "CPU times: user 475 ms, sys: 170 ms, total: 645 ms\n",
      "Wall time: 656 ms\n"
     ]
    },
    {
     "data": {
      "text/plain": [
       "(500, 120000)"
      ]
     },
     "execution_count": 4,
     "metadata": {},
     "output_type": "execute_result"
    }
   ],
   "source": [
    "# reference result and baseline performance\n",
    "%time out_scipy = A.dot(data.T).T\n",
    "out_scipy.shape"
   ]
  },
  {
   "cell_type": "markdown",
   "metadata": {},
   "source": [
    "# apply_ufunc on numpy array"
   ]
  },
  {
   "cell_type": "code",
   "execution_count": 5,
   "metadata": {
    "collapsed": true
   },
   "outputs": [],
   "source": [
    "def apply_A(data):\n",
    "    # use global A here!\n",
    "    return A.dot(data.T).T"
   ]
  },
  {
   "cell_type": "markdown",
   "metadata": {},
   "source": [
    "Has the same performance as before."
   ]
  },
  {
   "cell_type": "code",
   "execution_count": 6,
   "metadata": {},
   "outputs": [
    {
     "name": "stdout",
     "output_type": "stream",
     "text": [
      "CPU times: user 486 ms, sys: 179 ms, total: 664 ms\n",
      "Wall time: 676 ms\n"
     ]
    },
    {
     "data": {
      "text/plain": [
       "array([[ 0.18415503,  0.30827588,  0.36414446, ...,  0.71783924,\n",
       "         0.388926  ,  0.4258764 ],\n",
       "       [ 0.38458325,  0.7984833 ,  0.64423849, ...,  0.32378865,\n",
       "         0.19628272,  0.32222136],\n",
       "       [ 0.2824686 ,  0.38493851,  0.40749147, ...,  0.3225105 ,\n",
       "         0.25545861,  0.71379326],\n",
       "       ..., \n",
       "       [ 0.35136497,  0.38836416,  0.36229975, ...,  0.89467049,\n",
       "         0.50342856,  0.29044241],\n",
       "       [ 0.515627  ,  0.39534258,  0.20649153, ...,  0.19967517,\n",
       "         0.46541354,  0.40270855],\n",
       "       [ 0.27312149,  0.63370024,  0.3081374 , ...,  0.67607686,\n",
       "         0.44878322,  0.39344377]])"
      ]
     },
     "execution_count": 6,
     "metadata": {},
     "output_type": "execute_result"
    }
   ],
   "source": [
    "%time xr.apply_ufunc(apply_A, data)"
   ]
  },
  {
   "cell_type": "markdown",
   "metadata": {},
   "source": [
    "# apply_ufunc on xarray DataArray"
   ]
  },
  {
   "cell_type": "code",
   "execution_count": 7,
   "metadata": {},
   "outputs": [
    {
     "data": {
      "text/plain": [
       "<xarray.DataArray 'data' (extra_dims: 500, grid_dims: 240000)>\n",
       "array([[ 0.003899,  0.38041 ,  0.225732, ...,  0.201686,  0.743291,  0.321241],\n",
       "       [ 0.218596,  0.851019,  0.820948, ...,  0.021793,  0.642471,  0.249023],\n",
       "       [ 0.305715,  0.143063,  0.363874, ...,  0.06946 ,  0.667694,  0.699839],\n",
       "       ..., \n",
       "       [ 0.303445,  0.570533,  0.320477, ...,  0.555266,  0.263653,  0.29935 ],\n",
       "       [ 0.388431,  0.969054,  0.157855, ...,  0.640531,  0.199568,  0.411892],\n",
       "       [ 0.122485,  0.287483,  0.735536, ...,  0.477552,  0.057254,  0.410433]])\n",
       "Coordinates:\n",
       "  * extra_dims  (extra_dims) int64 0 1 2 3 4 5 6 7 8 9 10 11 12 13 14 15 16 ...\n",
       "  * grid_dims   (grid_dims) int64 0 1 2 3 4 5 6 7 8 9 10 11 12 13 14 15 16 ..."
      ]
     },
     "execution_count": 7,
     "metadata": {},
     "output_type": "execute_result"
    }
   ],
   "source": [
    "dr = xr.DataArray(data, \n",
    "                  dims=['extra_dims', 'grid_dims'],\n",
    "                  coords=[np.arange(500), np.arange(240000)],\n",
    "                  name='data'\n",
    "                 )\n",
    "dr"
   ]
  },
  {
   "cell_type": "markdown",
   "metadata": {},
   "source": [
    "Has the same performance as before."
   ]
  },
  {
   "cell_type": "code",
   "execution_count": 8,
   "metadata": {},
   "outputs": [
    {
     "name": "stdout",
     "output_type": "stream",
     "text": [
      "CPU times: user 516 ms, sys: 190 ms, total: 706 ms\n",
      "Wall time: 727 ms\n"
     ]
    }
   ],
   "source": [
    "%time dr_out = xr.apply_ufunc(apply_A, dr)"
   ]
  },
  {
   "cell_type": "code",
   "execution_count": 9,
   "metadata": {
    "scrolled": true
   },
   "outputs": [
    {
     "data": {
      "text/plain": [
       "True"
      ]
     },
     "execution_count": 9,
     "metadata": {},
     "output_type": "execute_result"
    }
   ],
   "source": [
    "# result is correct\n",
    "np.array_equal(dr_out.data, out_scipy)"
   ]
  },
  {
   "cell_type": "markdown",
   "metadata": {},
   "source": [
    "# Use dask array"
   ]
  },
  {
   "cell_type": "code",
   "execution_count": 10,
   "metadata": {},
   "outputs": [
    {
     "data": {
      "text/plain": [
       "dask.array<array, shape=(500, 240000), dtype=float64, chunksize=(100, 240000)>"
      ]
     },
     "execution_count": 10,
     "metadata": {},
     "output_type": "execute_result"
    }
   ],
   "source": [
    "data_dask = da.from_array(data, chunks=(100, 240000))\n",
    "data_dask"
   ]
  },
  {
   "cell_type": "markdown",
   "metadata": {},
   "source": [
    "**Horribly slow...**"
   ]
  },
  {
   "cell_type": "code",
   "execution_count": 11,
   "metadata": {},
   "outputs": [
    {
     "name": "stdout",
     "output_type": "stream",
     "text": [
      "CPU times: user 4.03 s, sys: 951 ms, total: 4.98 s\n",
      "Wall time: 5.05 s\n"
     ]
    },
    {
     "data": {
      "text/plain": [
       "(500, 120000)"
      ]
     },
     "execution_count": 11,
     "metadata": {},
     "output_type": "execute_result"
    }
   ],
   "source": [
    "%time out_dask = apply_A(data_dask)\n",
    "out_dask.shape"
   ]
  },
  {
   "cell_type": "code",
   "execution_count": 12,
   "metadata": {},
   "outputs": [
    {
     "data": {
      "text/plain": [
       "True"
      ]
     },
     "execution_count": 12,
     "metadata": {},
     "output_type": "execute_result"
    }
   ],
   "source": [
    "# result is correct\n",
    "np.array_equal(out_dask, out_scipy)"
   ]
  },
  {
   "cell_type": "markdown",
   "metadata": {},
   "source": [
    "# apply_ufunc on dask array, serial"
   ]
  },
  {
   "cell_type": "code",
   "execution_count": 13,
   "metadata": {},
   "outputs": [
    {
     "data": {
      "text/plain": [
       "<xarray.DataArray 'data' (extra_dims: 500, grid_dims: 240000)>\n",
       "dask.array<shape=(500, 240000), dtype=float64, chunksize=(100, 240000)>\n",
       "Dimensions without coordinates: extra_dims, grid_dims"
      ]
     },
     "execution_count": 13,
     "metadata": {},
     "output_type": "execute_result"
    }
   ],
   "source": [
    "dr_dask = xr.DataArray(data_dask, \n",
    "                       dims=['extra_dims', 'grid_dims'],\n",
    "                       name='data')\n",
    "dr_dask"
   ]
  },
  {
   "cell_type": "markdown",
   "metadata": {},
   "source": [
    "**As slow as the previous case...**"
   ]
  },
  {
   "cell_type": "code",
   "execution_count": 14,
   "metadata": {},
   "outputs": [
    {
     "name": "stdout",
     "output_type": "stream",
     "text": [
      "CPU times: user 4.13 s, sys: 1.03 s, total: 5.16 s\n",
      "Wall time: 5.24 s\n"
     ]
    }
   ],
   "source": [
    "%time dr_out_dask = xr.apply_ufunc(apply_A, dr_dask, dask='allowed')"
   ]
  },
  {
   "cell_type": "code",
   "execution_count": 15,
   "metadata": {},
   "outputs": [
    {
     "data": {
      "text/plain": [
       "True"
      ]
     },
     "execution_count": 15,
     "metadata": {},
     "output_type": "execute_result"
    }
   ],
   "source": [
    "# result is correct\n",
    "np.array_equal(dr_out_dask, out_scipy)"
   ]
  },
  {
   "cell_type": "markdown",
   "metadata": {},
   "source": [
    "# apply_ufunc on dask array, parallelized"
   ]
  },
  {
   "cell_type": "code",
   "execution_count": 16,
   "metadata": {
    "scrolled": true
   },
   "outputs": [
    {
     "name": "stdout",
     "output_type": "stream",
     "text": [
      "CPU times: user 151 ms, sys: 49.7 ms, total: 200 ms\n",
      "Wall time: 201 ms\n"
     ]
    }
   ],
   "source": [
    "%%time \n",
    "dr_out_pa = xr.apply_ufunc(apply_A, dr_dask, \n",
    "                           input_core_dims=[['grid_dims']],\n",
    "                           output_core_dims=[['out_grid']],\n",
    "                           output_sizes={'out_grid': 120000},\n",
    "                           dask='parallelized', \n",
    "                           output_dtypes=[float])"
   ]
  },
  {
   "cell_type": "code",
   "execution_count": 17,
   "metadata": {},
   "outputs": [
    {
     "data": {
      "text/plain": [
       "<xarray.DataArray 'data' (extra_dims: 500, out_grid: 120000)>\n",
       "dask.array<shape=(500, 120000), dtype=float64, chunksize=(100, 120000)>\n",
       "Dimensions without coordinates: extra_dims, out_grid"
      ]
     },
     "execution_count": 17,
     "metadata": {},
     "output_type": "execute_result"
    }
   ],
   "source": [
    "dr_out_pa # not computed yet"
   ]
  },
  {
   "cell_type": "markdown",
   "metadata": {},
   "source": [
    "**Much faster than the previous case, but still slower than the pure numpy case.**"
   ]
  },
  {
   "cell_type": "code",
   "execution_count": 18,
   "metadata": {
    "scrolled": true
   },
   "outputs": [
    {
     "name": "stdout",
     "output_type": "stream",
     "text": [
      "CPU times: user 1.02 s, sys: 921 ms, total: 1.94 s\n",
      "Wall time: 1.03 s\n"
     ]
    },
    {
     "data": {
      "text/plain": [
       "<xarray.DataArray 'data' (extra_dims: 500, out_grid: 120000)>\n",
       "array([[ 0.184155,  0.308276,  0.364144, ...,  0.717839,  0.388926,  0.425876],\n",
       "       [ 0.384583,  0.798483,  0.644238, ...,  0.323789,  0.196283,  0.322221],\n",
       "       [ 0.282469,  0.384939,  0.407491, ...,  0.322511,  0.255459,  0.713793],\n",
       "       ..., \n",
       "       [ 0.351365,  0.388364,  0.3623  , ...,  0.89467 ,  0.503429,  0.290442],\n",
       "       [ 0.515627,  0.395343,  0.206492, ...,  0.199675,  0.465414,  0.402709],\n",
       "       [ 0.273121,  0.6337  ,  0.308137, ...,  0.676077,  0.448783,  0.393444]])\n",
       "Dimensions without coordinates: extra_dims, out_grid"
      ]
     },
     "execution_count": 18,
     "metadata": {},
     "output_type": "execute_result"
    }
   ],
   "source": [
    "%time dr_out_pa.compute()"
   ]
  },
  {
   "cell_type": "code",
   "execution_count": 19,
   "metadata": {},
   "outputs": [
    {
     "data": {
      "text/plain": [
       "True"
      ]
     },
     "execution_count": 19,
     "metadata": {},
     "output_type": "execute_result"
    }
   ],
   "source": [
    "# result is correct\n",
    "np.array_equal(dr_out_pa.data, out_scipy)"
   ]
  },
  {
   "cell_type": "markdown",
   "metadata": {},
   "source": [
    "# Low-level implementation dask delayed"
   ]
  },
  {
   "cell_type": "code",
   "execution_count": 20,
   "metadata": {
    "collapsed": true
   },
   "outputs": [],
   "source": [
    "from dask import delayed"
   ]
  },
  {
   "cell_type": "markdown",
   "metadata": {},
   "source": [
    "Manully break data into 5 chunks"
   ]
  },
  {
   "cell_type": "code",
   "execution_count": 21,
   "metadata": {},
   "outputs": [
    {
     "data": {
      "text/plain": [
       "(100, 240000)"
      ]
     },
     "execution_count": 21,
     "metadata": {},
     "output_type": "execute_result"
    }
   ],
   "source": [
    "i = 0 \n",
    "data[100*i:100*(i+1), :].shape # input chunk shape"
   ]
  },
  {
   "cell_type": "code",
   "execution_count": 22,
   "metadata": {},
   "outputs": [
    {
     "data": {
      "text/plain": [
       "(100, 120000)"
      ]
     },
     "execution_count": 22,
     "metadata": {},
     "output_type": "execute_result"
    }
   ],
   "source": [
    "apply_A(data[100*i:100*(i+1), :]).shape # output chunk shape"
   ]
  },
  {
   "cell_type": "markdown",
   "metadata": {},
   "source": [
    "A list of output results from 5 chunks"
   ]
  },
  {
   "cell_type": "code",
   "execution_count": 23,
   "metadata": {},
   "outputs": [
    {
     "data": {
      "text/plain": [
       "[Delayed('apply_A-ebb4af45-81bd-42eb-8bfa-14b8479cd116'),\n",
       " Delayed('apply_A-75b615d6-1888-44b4-89b3-9a2dff4f70e7'),\n",
       " Delayed('apply_A-ae8d279b-3d7d-44ca-beb3-df10903e6e03'),\n",
       " Delayed('apply_A-c752d4ce-094a-4465-8062-0a956b0e1b15'),\n",
       " Delayed('apply_A-e358ff19-2c08-463b-8e56-27f1dbfa401c')]"
      ]
     },
     "execution_count": 23,
     "metadata": {},
     "output_type": "execute_result"
    }
   ],
   "source": [
    "out_delayed = [delayed(apply_A)(data[100*i:100*(i+1), :]) for i in range(5)]\n",
    "out_delayed"
   ]
  },
  {
   "cell_type": "markdown",
   "metadata": {},
   "source": [
    "Convert to dask arrays:"
   ]
  },
  {
   "cell_type": "code",
   "execution_count": 24,
   "metadata": {},
   "outputs": [
    {
     "data": {
      "text/plain": [
       "[dask.array<from-value, shape=(100, 120000), dtype=float64, chunksize=(100, 120000)>,\n",
       " dask.array<from-value, shape=(100, 120000), dtype=float64, chunksize=(100, 120000)>,\n",
       " dask.array<from-value, shape=(100, 120000), dtype=float64, chunksize=(100, 120000)>,\n",
       " dask.array<from-value, shape=(100, 120000), dtype=float64, chunksize=(100, 120000)>,\n",
       " dask.array<from-value, shape=(100, 120000), dtype=float64, chunksize=(100, 120000)>]"
      ]
     },
     "execution_count": 24,
     "metadata": {},
     "output_type": "execute_result"
    }
   ],
   "source": [
    "dask_subarrays = [da.from_delayed(d, (100, 120000), float) for d in out_delayed]\n",
    "dask_subarrays"
   ]
  },
  {
   "cell_type": "markdown",
   "metadata": {},
   "source": [
    "Merge into a single dask array:"
   ]
  },
  {
   "cell_type": "code",
   "execution_count": 25,
   "metadata": {},
   "outputs": [
    {
     "data": {
      "text/plain": [
       "dask.array<concatenate, shape=(500, 120000), dtype=float64, chunksize=(100, 120000)>"
      ]
     },
     "execution_count": 25,
     "metadata": {},
     "output_type": "execute_result"
    }
   ],
   "source": [
    "dask_merge = da.concatenate(dask_subarrays, axis=0)\n",
    "dask_merge"
   ]
  },
  {
   "cell_type": "code",
   "execution_count": 26,
   "metadata": {},
   "outputs": [
    {
     "data": {
      "text/plain": [
       "True"
      ]
     },
     "execution_count": 26,
     "metadata": {},
     "output_type": "execute_result"
    }
   ],
   "source": [
    "np.array_equal(dask_merge, out_scipy) # result is correct"
   ]
  },
  {
   "cell_type": "markdown",
   "metadata": {},
   "source": [
    "Parallelization does give some speed-up. But the serial version is slower than pure numpy version, and the parallel efficiency is worse than Numba."
   ]
  },
  {
   "cell_type": "code",
   "execution_count": 27,
   "metadata": {},
   "outputs": [
    {
     "name": "stdout",
     "output_type": "stream",
     "text": [
      "779 ms ± 76.1 ms per loop (mean ± std. dev. of 7 runs, 1 loop each)\n",
      "554 ms ± 8.5 ms per loop (mean ± std. dev. of 7 runs, 1 loop each)\n",
      "580 ms ± 43 ms per loop (mean ± std. dev. of 7 runs, 1 loop each)\n"
     ]
    }
   ],
   "source": [
    "%timeit dask_merge.compute(num_workers=1)\n",
    "%timeit dask_merge.compute(num_workers=2)\n",
    "%timeit dask_merge.compute(num_workers=4)"
   ]
  },
  {
   "cell_type": "code",
   "execution_count": 28,
   "metadata": {},
   "outputs": [
    {
     "data": {
      "image/png": "[encoded data removed]",
      "text/plain": [
       "<IPython.core.display.Image object>"
      ]
     },
     "execution_count": 28,
     "metadata": {},
     "output_type": "execute_result"
    }
   ],
   "source": [
    "dask_merge.visualize()"
   ]
  }
 ],
 "metadata": {
  "kernelspec": {
   "display_name": "Python 3",
   "language": "python",
   "name": "python3"
  },
  "language_info": {
   "codemirror_mode": {
    "name": "ipython",
    "version": 3
   },
   "file_extension": ".py",
   "mimetype": "text/x-python",
   "name": "python",
   "nbconvert_exporter": "python",
   "pygments_lexer": "ipython3",
   "version": "3.6.2"
  },
  "toc": {
   "nav_menu": {},
   "number_sections": true,
   "sideBar": true,
   "skip_h1_title": false,
   "toc_cell": false,
   "toc_position": {},
   "toc_section_display": "block",
   "toc_window_display": false
  }
 },
 "nbformat": 4,
 "nbformat_minor": 2
}
