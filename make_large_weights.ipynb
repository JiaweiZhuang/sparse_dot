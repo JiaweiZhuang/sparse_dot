{
 "cells": [
  {
   "cell_type": "code",
   "execution_count": 1,
   "metadata": {},
   "outputs": [],
   "source": [
    "%matplotlib inline\n",
    "import matplotlib.pyplot as plt\n",
    "import numpy as np\n",
    "import xarray as xr\n",
    "import xesmf as xe"
   ]
  },
  {
   "cell_type": "code",
   "execution_count": 2,
   "metadata": {},
   "outputs": [
    {
     "data": {
      "text/plain": [
       "<xarray.Dataset>\n",
       "Dimensions:  (x: 2000, x_b: 2001, y: 1001, y_b: 1002)\n",
       "Coordinates:\n",
       "    lon      (y, x) float64 -119.9 -119.8 -119.7 -119.6 -119.5 -119.3 -119.2 ...\n",
       "    lat      (y, x) float64 -59.94 -59.94 -59.94 -59.94 -59.94 -59.94 -59.94 ...\n",
       "    lon_b    (y_b, x_b) float64 -120.0 -119.9 -119.8 -119.6 -119.5 -119.4 ...\n",
       "    lat_b    (y_b, x_b) float64 -60.0 -60.0 -60.0 -60.0 -60.0 -60.0 -60.0 ...\n",
       "Dimensions without coordinates: x, x_b, y, y_b\n",
       "Data variables:\n",
       "    *empty*"
      ]
     },
     "execution_count": 2,
     "metadata": {},
     "output_type": "execute_result"
    }
   ],
   "source": [
    "ds_in = xe.util.grid_2d(-120, 120, 0.12,  # longitude range and resolution\n",
    "                        -60, 60, 0.12)  # latitude range and resolution\n",
    "ds_in"
   ]
  },
  {
   "cell_type": "code",
   "execution_count": 3,
   "metadata": {},
   "outputs": [
    {
     "data": {
      "text/plain": [
       "64.112032"
      ]
     },
     "execution_count": 3,
     "metadata": {},
     "output_type": "execute_result"
    }
   ],
   "source": [
    "ds_in.nbytes / 1e6"
   ]
  },
  {
   "cell_type": "code",
   "execution_count": 4,
   "metadata": {},
   "outputs": [
    {
     "data": {
      "text/plain": [
       "<xarray.Dataset>\n",
       "Dimensions:  (x: 2400, x_b: 2401, y: 1200, y_b: 1201)\n",
       "Coordinates:\n",
       "    lon      (y, x) float64 -120.0 -119.9 -119.8 -119.7 -119.6 -119.5 -119.4 ...\n",
       "    lat      (y, x) float64 -59.95 -59.95 -59.95 -59.95 -59.95 -59.95 -59.95 ...\n",
       "    lon_b    (y_b, x_b) float64 -120.0 -119.9 -119.8 -119.7 -119.6 -119.5 ...\n",
       "    lat_b    (y_b, x_b) float64 -60.0 -60.0 -60.0 -60.0 -60.0 -60.0 -60.0 ...\n",
       "Dimensions without coordinates: x, x_b, y, y_b\n",
       "Data variables:\n",
       "    *empty*"
      ]
     },
     "execution_count": 4,
     "metadata": {},
     "output_type": "execute_result"
    }
   ],
   "source": [
    "ds_out = xe.util.grid_2d(-120, 120, 0.1,\n",
    "                         -60, 60, 0.1)\n",
    "ds_out"
   ]
  },
  {
   "cell_type": "code",
   "execution_count": 5,
   "metadata": {},
   "outputs": [
    {
     "name": "stdout",
     "output_type": "stream",
     "text": [
      "Create weight file: bilinear_1001x2000_1200x2400.nc\n",
      "CPU times: user 2min 15s, sys: 9.75 s, total: 2min 25s\n",
      "Wall time: 2min 26s\n"
     ]
    }
   ],
   "source": [
    "%%time\n",
    "# this take a long time!!\n",
    "# fortunately, only needs to be done once\n",
    "regridder = xe.Regridder(ds_in, ds_out, 'bilinear', reuse_weights=True)"
   ]
  }
 ],
 "metadata": {
  "kernelspec": {
   "display_name": "Python [default]",
   "language": "python",
   "name": "python3"
  },
  "language_info": {
   "codemirror_mode": {
    "name": "ipython",
    "version": 3
   },
   "file_extension": ".py",
   "mimetype": "text/x-python",
   "name": "python",
   "nbconvert_exporter": "python",
   "pygments_lexer": "ipython3",
   "version": "3.6.3"
  }
 },
 "nbformat": 4,
 "nbformat_minor": 2
}
