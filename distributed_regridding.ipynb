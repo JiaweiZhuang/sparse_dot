{
 "cells": [
  {
   "cell_type": "code",
   "execution_count": 1,
   "metadata": {},
   "outputs": [],
   "source": [
    "import numpy as np\n",
    "import xarray as xr\n",
    "\n",
    "from scipy.sparse import coo_matrix\n",
    "\n",
    "import dask\n",
    "import dask.array as da\n",
    "from dask.distributed import Client, progress\n",
    "from dask_kubernetes import KubeCluster"
   ]
  },
  {
   "cell_type": "code",
   "execution_count": 2,
   "metadata": {},
   "outputs": [
    {
     "data": {
      "text/plain": [
       "(120000, 240000)"
      ]
     },
     "execution_count": 2,
     "metadata": {},
     "output_type": "execute_result"
    }
   ],
   "source": [
    "# read regridding weights from disk\n",
    "ds = xr.open_dataset(\"weights.nc\")\n",
    "n_s = ds.dims['n_s']\n",
    "col = ds['col'].values - 1\n",
    "row = ds['row'].values - 1\n",
    "S = ds['S'].values\n",
    "A = coo_matrix((S, (row, col))) \n",
    "A.shape"
   ]
  },
  {
   "cell_type": "markdown",
   "metadata": {},
   "source": [
    "# Single machine"
   ]
  },
  {
   "cell_type": "code",
   "execution_count": 3,
   "metadata": {},
   "outputs": [
    {
     "data": {
      "text/plain": [
       "1.92"
      ]
     },
     "execution_count": 3,
     "metadata": {},
     "output_type": "execute_result"
    }
   ],
   "source": [
    "# will read from cloud object storage in real cases\n",
    "x = np.random.rand(1000, A.shape[1])\n",
    "x.nbytes / 1e9 # GB"
   ]
  },
  {
   "cell_type": "code",
   "execution_count": 4,
   "metadata": {},
   "outputs": [
    {
     "data": {
      "text/plain": [
       "dask.array<random_sample, shape=(1000, 240000), dtype=float64, chunksize=(100, 240000)>"
      ]
     },
     "execution_count": 4,
     "metadata": {},
     "output_type": "execute_result"
    }
   ],
   "source": [
    "#x_dask = da.from_array(x, chunks=[100, -1]) # point to in-memory array\n",
    "x_dask = da.random.random([1000, A.shape[1]], chunks=[100, -1]) # initialize on the fly\n",
    "x_dask"
   ]
  },
  {
   "cell_type": "code",
   "execution_count": 5,
   "metadata": {},
   "outputs": [],
   "source": [
    "def apply_A(data):\n",
    "    # use global A here!\n",
    "    return A.dot(data.T).T"
   ]
  },
  {
   "cell_type": "code",
   "execution_count": 6,
   "metadata": {},
   "outputs": [
    {
     "name": "stdout",
     "output_type": "stream",
     "text": [
      "CPU times: user 960 ms, sys: 897 ms, total: 1.86 s\n",
      "Wall time: 1.86 s\n"
     ]
    },
    {
     "data": {
      "text/plain": [
       "(1000, 120000)"
      ]
     },
     "execution_count": 6,
     "metadata": {},
     "output_type": "execute_result"
    }
   ],
   "source": [
    "# serial performance\n",
    "%time out = apply_A(x)\n",
    "out.shape"
   ]
  },
  {
   "cell_type": "code",
   "execution_count": 7,
   "metadata": {},
   "outputs": [
    {
     "data": {
      "text/plain": [
       "dask.array<apply_A, shape=(1000, 120000), dtype=float64, chunksize=(100, 120000)>"
      ]
     },
     "execution_count": 7,
     "metadata": {},
     "output_type": "execute_result"
    }
   ],
   "source": [
    "out_dask = da.map_blocks(apply_A, x_dask, dtype=np.float64, chunks=[100, A.shape[0]])\n",
    "out_dask"
   ]
  },
  {
   "cell_type": "code",
   "execution_count": 11,
   "metadata": {},
   "outputs": [
    {
     "name": "stdout",
     "output_type": "stream",
     "text": [
      "CPU times: user 5.9 s, sys: 4.7 s, total: 10.6 s\n",
      "Wall time: 3.71 s\n"
     ]
    }
   ],
   "source": [
    "%%time \n",
    "# not faster...\n",
    "with dask.config.set(scheduler='threads'):\n",
    "    out_dask.compute()"
   ]
  },
  {
   "cell_type": "markdown",
   "metadata": {},
   "source": [
    "# Distributed"
   ]
  },
  {
   "cell_type": "code",
   "execution_count": 12,
   "metadata": {},
   "outputs": [
    {
     "data": {
      "application/vnd.jupyter.widget-view+json": {
       "model_id": "0ee708264c5e4bec9f26d548f9a56a13",
       "version_major": 2,
       "version_minor": 0
      },
      "text/plain": [
       "VBox(children=(HTML(value='<h2>KubeCluster</h2>'), HBox(children=(HTML(value='\\n<div>\\n  <style scoped>\\n    .…"
      ]
     },
     "metadata": {},
     "output_type": "display_data"
    }
   ],
   "source": [
    "cluster = KubeCluster(n_workers=30)\n",
    "cluster"
   ]
  },
  {
   "cell_type": "code",
   "execution_count": 14,
   "metadata": {},
   "outputs": [
    {
     "data": {
      "text/html": [
       "<table style=\"border: 2px solid white;\">\n",
       "<tr>\n",
       "<td style=\"vertical-align: top; border: 0px solid white\">\n",
       "<h3>Client</h3>\n",
       "<ul>\n",
       "  <li><b>Scheduler: </b>tcp://10.21.10.12:33848\n",
       "  <li><b>Dashboard: </b><a href='/user/jiaweizhuang/proxy/8787/status' target='_blank'>/user/jiaweizhuang/proxy/8787/status</a>\n",
       "</ul>\n",
       "</td>\n",
       "<td style=\"vertical-align: top; border: 0px solid white\">\n",
       "<h3>Cluster</h3>\n",
       "<ul>\n",
       "  <li><b>Workers: </b>21</li>\n",
       "  <li><b>Cores: </b>42</li>\n",
       "  <li><b>Memory: </b>126.00 GB</li>\n",
       "</ul>\n",
       "</td>\n",
       "</tr>\n",
       "</table>"
      ],
      "text/plain": [
       "<Client: scheduler='tcp://10.21.10.12:33848' processes=21 cores=42>"
      ]
     },
     "execution_count": 14,
     "metadata": {},
     "output_type": "execute_result"
    }
   ],
   "source": [
    "client = Client(cluster)\n",
    "client"
   ]
  },
  {
   "cell_type": "code",
   "execution_count": 15,
   "metadata": {},
   "outputs": [
    {
     "name": "stdout",
     "output_type": "stream",
     "text": [
      "CPU times: user 1.9 s, sys: 4.08 s, total: 5.98 s\n",
      "Wall time: 6.4 s\n"
     ]
    },
    {
     "data": {
      "text/plain": [
       "array([[0.31934864, 0.36393641, 0.26946019, ..., 0.72221182, 0.36967245,\n",
       "        0.59428341],\n",
       "       [0.48296722, 0.61470972, 0.32055858, ..., 0.26754128, 0.54020582,\n",
       "        0.29124052],\n",
       "       [0.91714009, 0.30431861, 0.77103484, ..., 0.33529832, 0.72908959,\n",
       "        0.74036565],\n",
       "       ...,\n",
       "       [0.50992037, 0.50666989, 0.82455594, ..., 0.46589756, 0.20549722,\n",
       "        0.30079077],\n",
       "       [0.44720058, 0.14755496, 0.41156093, ..., 0.23921956, 0.71229014,\n",
       "        0.54658992],\n",
       "       [0.69205954, 0.59066495, 0.47862871, ..., 0.59993105, 0.873219  ,\n",
       "        0.78321223]])"
      ]
     },
     "execution_count": 15,
     "metadata": {},
     "output_type": "execute_result"
    }
   ],
   "source": [
    "%%time \n",
    "out_dask.compute()"
   ]
  },
  {
   "cell_type": "markdown",
   "metadata": {},
   "source": [
    "# Use larger data and chunk"
   ]
  },
  {
   "cell_type": "code",
   "execution_count": 18,
   "metadata": {},
   "outputs": [
    {
     "data": {
      "text/plain": [
       "38.4"
      ]
     },
     "execution_count": 18,
     "metadata": {},
     "output_type": "execute_result"
    }
   ],
   "source": [
    "# will blow-up single-machine memory\n",
    "x_big_dask = da.random.random([20000, A.shape[1]], chunks=[1000, -1])\n",
    "x_big_dask.nbytes / 1e9 # GB"
   ]
  },
  {
   "cell_type": "code",
   "execution_count": 19,
   "metadata": {},
   "outputs": [
    {
     "data": {
      "text/plain": [
       "dask.array<apply_A, shape=(20000, 120000), dtype=float64, chunksize=(1000, 120000)>"
      ]
     },
     "execution_count": 19,
     "metadata": {},
     "output_type": "execute_result"
    }
   ],
   "source": [
    "out_big_dask = da.map_blocks(apply_A, x_big_dask, dtype=np.float64, chunks=[1000, A.shape[0]])\n",
    "out_big_dask"
   ]
  },
  {
   "cell_type": "code",
   "execution_count": 21,
   "metadata": {},
   "outputs": [
    {
     "name": "stdout",
     "output_type": "stream",
     "text": [
      "CPU times: user 1.2 s, sys: 295 ms, total: 1.5 s\n",
      "Wall time: 8.9 s\n"
     ]
    },
    {
     "data": {
      "text/plain": [
       "0.5000104995929522"
      ]
     },
     "execution_count": 21,
     "metadata": {},
     "output_type": "execute_result"
    }
   ],
   "source": [
    "%%time\n",
    "# do a reduction to show the graph better\n",
    "out_big_dask.mean().compute()"
   ]
  },
  {
   "cell_type": "code",
   "execution_count": 22,
   "metadata": {},
   "outputs": [
    {
     "data": {
      "application/vnd.jupyter.widget-view+json": {
       "model_id": "8f601cdb8bf14082b7344cde82d35e24",
       "version_major": 2,
       "version_minor": 0
      },
      "text/plain": [
       "VBox()"
      ]
     },
     "metadata": {},
     "output_type": "display_data"
    }
   ],
   "source": [
    "out_big_dask = client.persist(out_big_dask)\n",
    "progress(out_big_dask)"
   ]
  },
  {
   "cell_type": "code",
   "execution_count": null,
   "metadata": {},
   "outputs": [],
   "source": []
  }
 ],
 "metadata": {
  "kernelspec": {
   "display_name": "Python [default]",
   "language": "python",
   "name": "python3"
  },
  "language_info": {
   "codemirror_mode": {
    "name": "ipython",
    "version": 3
   },
   "file_extension": ".py",
   "mimetype": "text/x-python",
   "name": "python",
   "nbconvert_exporter": "python",
   "pygments_lexer": "ipython3",
   "version": "3.6.3"
  }
 },
 "nbformat": 4,
 "nbformat_minor": 2
}
